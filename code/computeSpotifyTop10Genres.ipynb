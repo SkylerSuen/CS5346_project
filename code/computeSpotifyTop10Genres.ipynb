{
 "cells": [
  {
   "cell_type": "code",
   "execution_count": 1,
   "id": "1a8efcdd",
   "metadata": {},
   "outputs": [
    {
     "name": "stdout",
     "output_type": "stream",
     "text": [
      "Top 10 Genres:\n",
      "dance pop: 370 songs\n",
      "pop: 62 songs\n",
      "art pop: 41 songs\n",
      "atl hip hop: 40 songs\n",
      "hip hop: 21 songs\n",
      "boy band: 21 songs\n",
      "canadian hip hop: 19 songs\n",
      "edm: 17 songs\n",
      "canadian pop: 16 songs\n",
      "folk-pop: 15 songs\n"
     ]
    }
   ],
   "source": [
    "import csv\n",
    "genre_count = {}\n",
    "with open('Spotify Top 100 Songs 2010 - 2020.csv', newline='', encoding='utf-8') as csvfile:\n",
    "    reader = csv.DictReader(csvfile)\n",
    "    \n",
    "    for row in reader:\n",
    "        genre = row['top genre']\n",
    "        \n",
    "        if genre in genre_count:\n",
    "            genre_count[genre] += 1\n",
    "        else:\n",
    "            genre_count[genre] = 1\n",
    "\n",
    "sorted_genre_count = sorted(genre_count.items(), key=lambda x: x[1], reverse=True)\n",
    "print(\"Top 10 Genres:\")\n",
    "for genre, count in sorted_genre_count[:10]:\n",
    "    print(f\"{genre}: {count} songs\")"
   ]
  },
  {
   "cell_type": "code",
   "execution_count": null,
   "id": "25a1388d",
   "metadata": {},
   "outputs": [],
   "source": []
  }
 ],
 "metadata": {
  "kernelspec": {
   "display_name": "Python 3 (ipykernel)",
   "language": "python",
   "name": "python3"
  },
  "language_info": {
   "codemirror_mode": {
    "name": "ipython",
    "version": 3
   },
   "file_extension": ".py",
   "mimetype": "text/x-python",
   "name": "python",
   "nbconvert_exporter": "python",
   "pygments_lexer": "ipython3",
   "version": "3.11.4"
  }
 },
 "nbformat": 4,
 "nbformat_minor": 5
}
